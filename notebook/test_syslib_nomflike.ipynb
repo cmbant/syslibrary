{
 "cells": [
  {
   "cell_type": "markdown",
   "metadata": {},
   "source": [
    "Tutorial on how to use syslib. Currently available: calibration feature only."
   ]
  },
  {
   "cell_type": "code",
   "execution_count": 1,
   "metadata": {},
   "outputs": [],
   "source": [
    "import numpy as np\n",
    "from sysspectra import syslib as syl"
   ]
  },
  {
   "cell_type": "markdown",
   "metadata": {},
   "source": [
    "Let's initiate a Calibration class and check it out "
   ]
  },
  {
   "cell_type": "code",
   "execution_count": 2,
   "metadata": {},
   "outputs": [],
   "source": [
    "calib=syl.Calibration()"
   ]
  },
  {
   "cell_type": "code",
   "execution_count": 3,
   "metadata": {},
   "outputs": [
    {
     "data": {
      "text/plain": [
       "Calibration:\n",
       "  cXnu1: 1.0\n",
       "  cYnu2: 1.0"
      ]
     },
     "execution_count": 3,
     "metadata": {},
     "output_type": "execute_result"
    }
   ],
   "source": [
    "calib"
   ]
  },
  {
   "cell_type": "markdown",
   "metadata": {},
   "source": [
    "calib takes two input arguments. Those are supposed to be the calibration factors, one for each field X,Y and frequency nu1,nu2. E.g., calibration factor for field T measured at frequency 95GHz. "
   ]
  },
  {
   "cell_type": "code",
   "execution_count": 5,
   "metadata": {},
   "outputs": [
    {
     "data": {
      "text/plain": [
       "{'cXnu1': 1.0, 'cYnu2': 1.0}"
      ]
     },
     "execution_count": 5,
     "metadata": {},
     "output_type": "execute_result"
    }
   ],
   "source": [
    "calib.defaults"
   ]
  },
  {
   "cell_type": "markdown",
   "metadata": {},
   "source": [
    "We can change the defaults value via the set_defaults function"
   ]
  },
  {
   "cell_type": "code",
   "execution_count": 8,
   "metadata": {},
   "outputs": [
    {
     "data": {
      "text/plain": [
       "Calibration:\n",
       "  cXnu1: 3.0\n",
       "  cYnu2: 1.0"
      ]
     },
     "execution_count": 8,
     "metadata": {},
     "output_type": "execute_result"
    }
   ],
   "source": [
    "calib.set_defaults(cXnu1=3.)\n",
    "calib"
   ]
  },
  {
   "cell_type": "markdown",
   "metadata": {},
   "source": [
    "Let's now look at the output. The input arguments can be passed as two scalars. In this case, the output is a scalar."
   ]
  },
  {
   "cell_type": "code",
   "execution_count": 4,
   "metadata": {},
   "outputs": [
    {
     "data": {
      "text/plain": [
       "array([6.])"
      ]
     },
     "execution_count": 4,
     "metadata": {},
     "output_type": "execute_result"
    }
   ],
   "source": [
    "calib(cXnu1=2.,cYnu2=3.)"
   ]
  },
  {
   "cell_type": "markdown",
   "metadata": {},
   "source": [
    "Or as an array and a scalar. Note that order matters. In this case, the output is a column vector."
   ]
  },
  {
   "cell_type": "code",
   "execution_count": 6,
   "metadata": {},
   "outputs": [
    {
     "data": {
      "text/plain": [
       "array([[1.],\n",
       "       [2.]])"
      ]
     },
     "execution_count": 6,
     "metadata": {},
     "output_type": "execute_result"
    }
   ],
   "source": [
    "calib(cXnu1=[1.,2.])"
   ]
  },
  {
   "cell_type": "markdown",
   "metadata": {},
   "source": [
    "In this other case, where cXnu1 is a scalar and cYnu2 is an array, the output is a row vector."
   ]
  },
  {
   "cell_type": "code",
   "execution_count": 9,
   "metadata": {},
   "outputs": [
    {
     "data": {
      "text/plain": [
       "array([3., 6.])"
      ]
     },
     "execution_count": 9,
     "metadata": {},
     "output_type": "execute_result"
    }
   ],
   "source": [
    "calib(cYnu2=[1.,2.])"
   ]
  },
  {
   "cell_type": "markdown",
   "metadata": {},
   "source": [
    "The most general case, when both cXnu1 and cYnu2 are arrays, gives a matrix as an output."
   ]
  },
  {
   "cell_type": "code",
   "execution_count": 10,
   "metadata": {},
   "outputs": [
    {
     "data": {
      "text/plain": [
       "array([[3., 4.],\n",
       "       [6., 8.]])"
      ]
     },
     "execution_count": 10,
     "metadata": {},
     "output_type": "execute_result"
    }
   ],
   "source": [
    "calib(cXnu1=[1.,2.],cYnu2=[3.,4.])"
   ]
  },
  {
   "cell_type": "markdown",
   "metadata": {},
   "source": [
    "Suppose now that cT=[1,2,3] is the array of calibration factors of T maps for a set\n",
    "of 3 frequencies (say, 95, 150, 220 GHz). cE=[4,5,6] is the analogue for E maps. Let's call calib() with these two input arguments."
   ]
  },
  {
   "cell_type": "code",
   "execution_count": 12,
   "metadata": {},
   "outputs": [
    {
     "data": {
      "text/plain": [
       "array([[ 4.,  5.,  6.],\n",
       "       [ 8., 10., 12.],\n",
       "       [12., 15., 18.]])"
      ]
     },
     "execution_count": 12,
     "metadata": {},
     "output_type": "execute_result"
    }
   ],
   "source": [
    "cT=[1.,2.,3.]\n",
    "cE=[4.,5.,6.]\n",
    "calib(cXnu1=cT, cYnu2=cE)"
   ]
  },
  {
   "cell_type": "markdown",
   "metadata": {},
   "source": [
    "Each entry of this matrix corresponds to the calibration factor of the TE auto- and cross-spectra.\n",
    "E.g., element (0,0) is the calibration factor of the 95x95 TE spectrum.\n",
    "Element (0,1) is the calibration factor of the 95x150 spectrum, i.e. T from 95 and E from 150.\n",
    "Note that it is different from element (1,0), which is the cal factor for TE 150x95,\n",
    "i.e. T from 150 and E from 95."
   ]
  },
  {
   "cell_type": "code",
   "execution_count": null,
   "metadata": {},
   "outputs": [],
   "source": []
  }
 ],
 "metadata": {
  "kernelspec": {
   "display_name": "newsysV0.1",
   "language": "python",
   "name": "newsysv0.1"
  },
  "language_info": {
   "codemirror_mode": {
    "name": "ipython",
    "version": 3
   },
   "file_extension": ".py",
   "mimetype": "text/x-python",
   "name": "python",
   "nbconvert_exporter": "python",
   "pygments_lexer": "ipython3",
   "version": "3.7.3"
  }
 },
 "nbformat": 4,
 "nbformat_minor": 4
}
