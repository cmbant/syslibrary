{
 "cells": [
  {
   "cell_type": "markdown",
   "metadata": {},
   "source": [
    "Tutorial on how to use syslib. Currently available: calibration feature only."
   ]
  },
  {
   "cell_type": "code",
   "execution_count": 1,
   "metadata": {},
   "outputs": [],
   "source": [
    "import numpy as np\n",
    "from sysspectra import syslib as syl"
   ]
  },
  {
   "cell_type": "markdown",
   "metadata": {},
   "source": [
    "Let's initiate a Calibration class and check it out "
   ]
  },
  {
   "cell_type": "code",
   "execution_count": 2,
   "metadata": {},
   "outputs": [],
   "source": [
    "calib=syl.Calibration()"
   ]
  },
  {
   "cell_type": "code",
   "execution_count": 3,
   "metadata": {},
   "outputs": [
    {
     "data": {
      "text/plain": [
       "Calibration:\n",
       "  cXnu1: 1.0\n",
       "  cYnu2: 1.0"
      ]
     },
     "execution_count": 3,
     "metadata": {},
     "output_type": "execute_result"
    }
   ],
   "source": [
    "calib"
   ]
  },
  {
   "cell_type": "markdown",
   "metadata": {},
   "source": [
    "calib takes two input arguments. Those are supposed to be the calibration factors, one for each field X,Y and frequency nu1,nu2. E.g., calibration factor for field T measured at frequency 95GHz. "
   ]
  },
  {
   "cell_type": "code",
   "execution_count": 4,
   "metadata": {},
   "outputs": [
    {
     "data": {
      "text/plain": [
       "{'cXnu1': 1.0, 'cYnu2': 1.0}"
      ]
     },
     "execution_count": 4,
     "metadata": {},
     "output_type": "execute_result"
    }
   ],
   "source": [
    "calib.defaults"
   ]
  },
  {
   "cell_type": "markdown",
   "metadata": {},
   "source": [
    "We can change the defaults value via the set_defaults function"
   ]
  },
  {
   "cell_type": "code",
   "execution_count": 5,
   "metadata": {},
   "outputs": [
    {
     "data": {
      "text/plain": [
       "Calibration:\n",
       "  cXnu1: 3.0\n",
       "  cYnu2: 1.0"
      ]
     },
     "execution_count": 5,
     "metadata": {},
     "output_type": "execute_result"
    }
   ],
   "source": [
    "calib.set_defaults(cXnu1=3.)\n",
    "calib"
   ]
  },
  {
   "cell_type": "markdown",
   "metadata": {},
   "source": [
    "Let's now look at the output. The input arguments can be passed as two scalars. In this case, the output is a scalar."
   ]
  },
  {
   "cell_type": "code",
   "execution_count": 6,
   "metadata": {},
   "outputs": [
    {
     "data": {
      "text/plain": [
       "array([6.])"
      ]
     },
     "execution_count": 6,
     "metadata": {},
     "output_type": "execute_result"
    }
   ],
   "source": [
    "calib(cXnu1=2.,cYnu2=3.)"
   ]
  },
  {
   "cell_type": "markdown",
   "metadata": {},
   "source": [
    "Or as an array and a scalar. Note that order matters. In this case, the output is a column vector."
   ]
  },
  {
   "cell_type": "code",
   "execution_count": 7,
   "metadata": {},
   "outputs": [
    {
     "data": {
      "text/plain": [
       "array([[1.],\n",
       "       [2.]])"
      ]
     },
     "execution_count": 7,
     "metadata": {},
     "output_type": "execute_result"
    }
   ],
   "source": [
    "calib(cXnu1=[1.,2.])"
   ]
  },
  {
   "cell_type": "markdown",
   "metadata": {},
   "source": [
    "In this other case, where cXnu1 is a scalar and cYnu2 is an array, the output is a row vector."
   ]
  },
  {
   "cell_type": "code",
   "execution_count": 8,
   "metadata": {},
   "outputs": [
    {
     "data": {
      "text/plain": [
       "array([3., 6.])"
      ]
     },
     "execution_count": 8,
     "metadata": {},
     "output_type": "execute_result"
    }
   ],
   "source": [
    "calib(cYnu2=[1.,2.])"
   ]
  },
  {
   "cell_type": "markdown",
   "metadata": {},
   "source": [
    "The most general case, when both cXnu1 and cYnu2 are arrays, gives a matrix as an output."
   ]
  },
  {
   "cell_type": "code",
   "execution_count": 9,
   "metadata": {},
   "outputs": [
    {
     "data": {
      "text/plain": [
       "array([[3., 4.],\n",
       "       [6., 8.]])"
      ]
     },
     "execution_count": 9,
     "metadata": {},
     "output_type": "execute_result"
    }
   ],
   "source": [
    "calib(cXnu1=[1.,2.],cYnu2=[3.,4.])"
   ]
  },
  {
   "cell_type": "markdown",
   "metadata": {},
   "source": [
    "Suppose now that cT=[1,2,3] is the array of calibration factors of T maps for a set\n",
    "of 3 frequencies (say, 95, 150, 220 GHz). cE=[4,5,6] is the analogue for E maps. Let's call calib() with these two input arguments."
   ]
  },
  {
   "cell_type": "code",
   "execution_count": 10,
   "metadata": {},
   "outputs": [
    {
     "data": {
      "text/plain": [
       "array([[ 4.,  5.,  6.],\n",
       "       [ 8., 10., 12.],\n",
       "       [12., 15., 18.]])"
      ]
     },
     "execution_count": 10,
     "metadata": {},
     "output_type": "execute_result"
    }
   ],
   "source": [
    "cT=[1.,2.,3.]\n",
    "cE=[4.,5.,6.]\n",
    "calib(cXnu1=cT, cYnu2=cE)"
   ]
  },
  {
   "cell_type": "markdown",
   "metadata": {},
   "source": [
    "Each entry of this matrix corresponds to the calibration factor of the TE auto- and cross-spectra.\n",
    "E.g., element (0,0) is the calibration factor of the 95x95 TE spectrum.\n",
    "Element (0,1) is the calibration factor of the 95x150 spectrum, i.e. T from 95 and E from 150.\n",
    "Note that it is different from element (1,0), which is the cal factor for TE 150x95,\n",
    "i.e. T from 150 and E from 95."
   ]
  },
  {
   "cell_type": "code",
   "execution_count": null,
   "metadata": {},
   "outputs": [],
   "source": []
  },
  {
   "cell_type": "markdown",
   "metadata": {},
   "source": [
    "Let's now have a look at the possibility to upload templates from file. We have defined a class called TemplatesFromFiles. It takes an array of (string) frequencies and a root name in input and create a nXn array of cl read from files, and formatted given input ell ranges and normalisation amp."
   ]
  },
  {
   "cell_type": "code",
   "execution_count": 5,
   "metadata": {},
   "outputs": [
    {
     "data": {
      "text/plain": [
       "TemplatesFromFiles:\n",
       "  amp: 1.0\n",
       "  ell: null"
      ]
     },
     "execution_count": 5,
     "metadata": {},
     "output_type": "execute_result"
    }
   ],
   "source": [
    "tfromf=syl.TemplatesFromFiles(nu=['93','145','225'],root='generic_template')\n",
    "tfromf"
   ]
  },
  {
   "cell_type": "markdown",
   "metadata": {},
   "source": [
    "tfromf can be instancieted giving it as input the ell range and the normalisation amp. It will return as output a 3X3 array of cls. Each cl will have length equal to ell."
   ]
  },
  {
   "cell_type": "code",
   "execution_count": 12,
   "metadata": {},
   "outputs": [
    {
     "data": {
      "text/plain": [
       "array([[[1., 1., 1., ..., 1., 1., 1.],\n",
       "        [1., 1., 1., ..., 1., 1., 1.],\n",
       "        [1., 1., 1., ..., 1., 1., 1.]],\n",
       "\n",
       "       [[1., 1., 1., ..., 1., 1., 1.],\n",
       "        [1., 1., 1., ..., 1., 1., 1.],\n",
       "        [1., 1., 1., ..., 1., 1., 1.]],\n",
       "\n",
       "       [[1., 1., 1., ..., 1., 1., 1.],\n",
       "        [1., 1., 1., ..., 1., 1., 1.],\n",
       "        [1., 1., 1., ..., 1., 1., 1.]]])"
      ]
     },
     "execution_count": 12,
     "metadata": {},
     "output_type": "execute_result"
    }
   ],
   "source": [
    "ell=np.arange(2,6000)\n",
    "tfromf(ell=ell)"
   ]
  },
  {
   "cell_type": "markdown",
   "metadata": {},
   "source": [
    "Note that amp can be either a scalar, a 3d array, or a 3X3 matrix."
   ]
  },
  {
   "cell_type": "code",
   "execution_count": 13,
   "metadata": {},
   "outputs": [
    {
     "data": {
      "text/plain": [
       "array([[[1., 1., 1., ..., 1., 1., 1.],\n",
       "        [2., 2., 2., ..., 2., 2., 2.],\n",
       "        [3., 3., 3., ..., 3., 3., 3.]],\n",
       "\n",
       "       [[4., 4., 4., ..., 4., 4., 4.],\n",
       "        [5., 5., 5., ..., 5., 5., 5.],\n",
       "        [6., 6., 6., ..., 6., 6., 6.]],\n",
       "\n",
       "       [[7., 7., 7., ..., 7., 7., 7.],\n",
       "        [8., 8., 8., ..., 8., 8., 8.],\n",
       "        [9., 9., 9., ..., 9., 9., 9.]]])"
      ]
     },
     "execution_count": 13,
     "metadata": {},
     "output_type": "execute_result"
    }
   ],
   "source": [
    "ell=np.arange(2,6000)\n",
    "tfromf(ell=ell,amp=[[1,2,3],[4,5,6],[7,8,9]])"
   ]
  },
  {
   "cell_type": "code",
   "execution_count": 14,
   "metadata": {},
   "outputs": [],
   "source": [
    "tfromf=syl.TemplatesFromFiles(nu=['93','145','225'])"
   ]
  },
  {
   "cell_type": "code",
   "execution_count": 15,
   "metadata": {},
   "outputs": [
    {
     "data": {
      "text/plain": [
       "TemplatesFromFiles:\n",
       "  amp: 1.0\n",
       "  ell: null"
      ]
     },
     "execution_count": 15,
     "metadata": {},
     "output_type": "execute_result"
    }
   ],
   "source": [
    "tfromf"
   ]
  },
  {
   "cell_type": "code",
   "execution_count": 9,
   "metadata": {},
   "outputs": [],
   "source": [
    "ell=np.arange(2,10000)\n",
    "cl=dict()\n",
    "nu=[90,150]\n",
    "cl[\"tt\",90,90]=1.*np.ones(len(ell))#/ell**2\n",
    "cl[\"tt\",90,150]=1.*np.ones(len(ell))#5#+1./ell**2\n",
    "cl[\"tt\",150,90]=1.*np.ones(len(ell))#5+1.#/ell**2\n",
    "cl[\"tt\",150,150]=1.*np.ones(len(ell))#25#+1./ell**2\n",
    "cl[\"te\",90,90]=1.*np.ones(len(ell))#/ell**2/10.\n",
    "cl[\"te\",90,150]=1.*np.ones(len(ell))#5#+1./ell**2/10.\n",
    "cl[\"te\",150,90]=1.*np.ones(len(ell))#5+1.#/ell**2/10.\n",
    "cl[\"te\",150,150]=1.*np.ones(len(ell))#25#+1./ell**2/10.\n",
    "cl[\"ee\",90,90]=1.*np.ones(len(ell))#/ell**2/1000.\n",
    "cl[\"ee\",90,150]=1.*np.ones(len(ell))#5#+1./ell**2/1000.\n",
    "cl[\"ee\",150,90]=1.*np.ones(len(ell))#5+1.#/ell**2/1000.\n",
    "cl[\"ee\",150,150]=1.*np.ones(len(ell))#25#+1./ell**2/1000.\n",
    "enu1={}\n",
    "enu1[90]=np.array([1.,2.,3.])\n",
    "enu1[150]=np.array([4.,5.,6.])"
   ]
  },
  {
   "cell_type": "code",
   "execution_count": 8,
   "metadata": {},
   "outputs": [],
   "source": [
    "teleak=syl.TtoEleak_Planck15(ell=ell,spectra=cl)"
   ]
  },
  {
   "cell_type": "code",
   "execution_count": 9,
   "metadata": {},
   "outputs": [
    {
     "data": {
      "text/plain": [
       "TtoEleak_Planck15:\n",
       "  enu:\n",
       "    '100':\n",
       "    - 0.0\n",
       "    - 0.0\n",
       "    - 0.0\n",
       "  nu: null"
      ]
     },
     "execution_count": 9,
     "metadata": {},
     "output_type": "execute_result"
    }
   ],
   "source": [
    "teleak"
   ]
  },
  {
   "cell_type": "code",
   "execution_count": 10,
   "metadata": {},
   "outputs": [],
   "source": [
    "x=teleak(nu=nu,enu=enu1)"
   ]
  },
  {
   "cell_type": "code",
   "execution_count": 11,
   "metadata": {},
   "outputs": [
    {
     "data": {
      "text/plain": [
       "array([5.70000000e+01, 2.62000000e+02, 8.01000000e+02, ...,\n",
       "       2.99640164e+16, 2.99760074e+16, 2.99880020e+16])"
      ]
     },
     "execution_count": 11,
     "metadata": {},
     "output_type": "execute_result"
    }
   ],
   "source": [
    "x['te',90,90]"
   ]
  },
  {
   "cell_type": "code",
   "execution_count": 6,
   "metadata": {},
   "outputs": [
    {
     "data": {
      "text/plain": [
       "residual:\n",
       "  amp: 1.0"
      ]
     },
     "execution_count": 6,
     "metadata": {},
     "output_type": "execute_result"
    }
   ],
   "source": [
    "syl.residual(ell=ell,spectra=cl)"
   ]
  },
  {
   "cell_type": "code",
   "execution_count": 13,
   "metadata": {},
   "outputs": [],
   "source": [
    "cal15=syl.Calibration_Planck15(ell=ell,spectra=cl)"
   ]
  },
  {
   "cell_type": "code",
   "execution_count": 14,
   "metadata": {},
   "outputs": [
    {
     "data": {
      "text/plain": [
       "Calibration_Planck15:\n",
       "  cal1:\n",
       "    a:\n",
       "    - 1.0\n",
       "    - 1.0\n",
       "    - 1.0\n",
       "  cal2:\n",
       "    b:\n",
       "    - 1.0\n",
       "    - 1.0\n",
       "    - 1.0\n",
       "  nu: null"
      ]
     },
     "execution_count": 14,
     "metadata": {},
     "output_type": "execute_result"
    }
   ],
   "source": [
    "cal15"
   ]
  },
  {
   "cell_type": "code",
   "execution_count": 18,
   "metadata": {},
   "outputs": [],
   "source": [
    "cal1={}\n",
    "cal1['tt']=[2.,4.]\n",
    "cal1['ee']=[3.,5.]"
   ]
  },
  {
   "cell_type": "code",
   "execution_count": 19,
   "metadata": {},
   "outputs": [
    {
     "data": {
      "text/plain": [
       "{('tt', 90, 90): 4.0,\n",
       " ('te', 90, 90): 6.0,\n",
       " ('ee', 90, 90): 9.0,\n",
       " ('tt', 90, 150): 8.0,\n",
       " ('te', 90, 150): 12.0,\n",
       " ('ee', 90, 150): 15.0,\n",
       " ('tt', 150, 90): 8.0,\n",
       " ('te', 150, 90): 10.0,\n",
       " ('ee', 150, 90): 15.0,\n",
       " ('tt', 150, 150): 16.0,\n",
       " ('te', 150, 150): 20.0,\n",
       " ('ee', 150, 150): 25.0}"
      ]
     },
     "execution_count": 19,
     "metadata": {},
     "output_type": "execute_result"
    }
   ],
   "source": [
    "cal15(cal1=cal1,cal2=cal1,nu=nu)"
   ]
  },
  {
   "cell_type": "code",
   "execution_count": 17,
   "metadata": {},
   "outputs": [
    {
     "name": "stdout",
     "output_type": "stream",
     "text": [
      "[2. 2.]\n",
      "[3. 3.]\n"
     ]
    }
   ],
   "source": [
    "for k in cal1.keys():\n",
    "    print(np.array(cal1[k]))"
   ]
  },
  {
   "cell_type": "code",
   "execution_count": 12,
   "metadata": {},
   "outputs": [
    {
     "data": {
      "text/plain": [
       "{'tt': array([[0., 0.],\n",
       "        [0., 0.]])}"
      ]
     },
     "execution_count": 12,
     "metadata": {},
     "output_type": "execute_result"
    }
   ],
   "source": [
    "cl2"
   ]
  },
  {
   "cell_type": "code",
   "execution_count": 11,
   "metadata": {},
   "outputs": [
    {
     "data": {
      "text/plain": [
       "dict_keys(['bb'])"
      ]
     },
     "execution_count": 11,
     "metadata": {},
     "output_type": "execute_result"
    }
   ],
   "source": [
    "template={}\n",
    "yy={}\n",
    "template['bb']=yy\n",
    "yy['ciccio']=3\n",
    "template.keys()"
   ]
  },
  {
   "cell_type": "code",
   "execution_count": 12,
   "metadata": {},
   "outputs": [
    {
     "data": {
      "text/plain": [
       "dict_keys([('tt', 90, 90), ('tt', 90, 150), ('tt', 150, 90), ('tt', 150, 150), ('te', 90, 90), ('te', 90, 150), ('te', 150, 90), ('te', 150, 150), ('ee', 90, 90), ('ee', 90, 150), ('ee', 150, 90), ('ee', 150, 150)])"
      ]
     },
     "execution_count": 12,
     "metadata": {},
     "output_type": "execute_result"
    }
   ],
   "source": [
    "cl.keys()"
   ]
  },
  {
   "cell_type": "markdown",
   "metadata": {},
   "source": [
    "Debug below this line. Not relevant.\n",
    "------------------------------------------"
   ]
  },
  {
   "cell_type": "code",
   "execution_count": 6,
   "metadata": {},
   "outputs": [
    {
     "data": {
      "text/plain": [
       "\"\\nfor i,c in enumerate(corr):\\n    print(i,c)\\n    idx = (i%3, i//3)\\n    print(idx)\\n    root='/Users/martina/Documents/University/Projects/sys_sandbox/newsysV0.1_folder/syslibrary/sysspectra/data/'\\n    fname=root+'cl_generic_template_'+c[0]+'_'+c[1]+'.dat'\\n    print(fname)\\n    np.savetxt(fname,data)\\n    \""
      ]
     },
     "execution_count": 6,
     "metadata": {},
     "output_type": "execute_result"
    }
   ],
   "source": [
    "import numpy as np\n",
    "from itertools import product\n",
    "\n",
    "map_names = np.array(['93','145','225'])\n",
    "ell=np.arange(10000)\n",
    "dl=np.ones(len(ell))\n",
    "data=np.column_stack((ell,dl))\n",
    "corr=product(map_names,map_names)\n",
    "for i,c in enumerate(corr):\n",
    "    print(i,c)\n",
    "    idx = (i%3, i//3)\n",
    "    print(idx)\n",
    "    root='/Users/martina/Documents/University/Projects/sys_sandbox/newsysV0.1_folder/syslibrary/sysspectra/data/'\n",
    "    fname=root+'cl_generic_template_'+c[0]+'_'+c[1]+'.dat'\n",
    "    print(fname)\n",
    "    np.savetxt(fname,data)\n"
   ]
  },
  {
   "cell_type": "code",
   "execution_count": 10,
   "metadata": {},
   "outputs": [],
   "source": [
    "cl2=dict()\n",
    "cl2['tt']=dict()\n",
    "cl2['tt'][93]=dict()\n",
    "cl2['tt'][145]=dict()\n",
    "cl2['tt'][225]=dict()\n",
    "cl2['te']=dict()\n",
    "cl2['te'][93]=dict()\n",
    "cl2['te'][145]=dict()\n",
    "cl2['te'][225]=dict()\n",
    "cl2['ee']=dict()\n",
    "cl2['ee'][93]=dict()\n",
    "cl2['ee'][145]=dict()\n",
    "cl2['ee'][225]=dict()\n",
    "#print(cl.keys())\n",
    "for k in cl2.keys():\n",
    "    for f1 in cl2[k].keys():\n",
    "        for f2 in [93,145,225]:\n",
    "            cl2[k][f1][f2]=np.ones(len(ell)).tolist()"
   ]
  },
  {
   "cell_type": "code",
   "execution_count": 11,
   "metadata": {},
   "outputs": [],
   "source": [
    "import yaml\n",
    "with open('test_template.yaml', 'w') as file:\n",
    "    documents = yaml.dump(cl2, file,default_flow_style=False)"
   ]
  },
  {
   "cell_type": "code",
   "execution_count": 24,
   "metadata": {},
   "outputs": [],
   "source": [
    "with open('test_template.yaml') as file:\n",
    "    documents = yaml.full_load(file)"
   ]
  },
  {
   "cell_type": "code",
   "execution_count": 26,
   "metadata": {},
   "outputs": [
    {
     "data": {
      "text/plain": [
       "dict_keys(['ee', 'te', 'tt'])"
      ]
     },
     "execution_count": 26,
     "metadata": {},
     "output_type": "execute_result"
    }
   ],
   "source": [
    "documents.keys()"
   ]
  },
  {
   "cell_type": "code",
   "execution_count": 27,
   "metadata": {},
   "outputs": [],
   "source": [
    "dcl=dict()\n",
    "for spec in documents.keys():\n",
    "    for f1 in documents[spec].keys():\n",
    "        for f2 in documents[spec][f1].keys():\n",
    "            dcl[spec,f1,f2] = np.array(documents[spec][f1][f2])"
   ]
  },
  {
   "cell_type": "code",
   "execution_count": 28,
   "metadata": {},
   "outputs": [
    {
     "name": "stdout",
     "output_type": "stream",
     "text": [
      "{('ee', 90, 90): array([1., 1., 1., ..., 1., 1., 1.]), ('ee', 90, 150): array([1., 1., 1., ..., 1., 1., 1.]), ('ee', 90, 225): array([1., 1., 1., ..., 1., 1., 1.]), ('ee', 150, 90): array([1., 1., 1., ..., 1., 1., 1.]), ('ee', 150, 150): array([1., 1., 1., ..., 1., 1., 1.]), ('ee', 150, 225): array([1., 1., 1., ..., 1., 1., 1.]), ('ee', 225, 90): array([1., 1., 1., ..., 1., 1., 1.]), ('ee', 225, 150): array([1., 1., 1., ..., 1., 1., 1.]), ('ee', 225, 225): array([1., 1., 1., ..., 1., 1., 1.]), ('te', 90, 90): array([1., 1., 1., ..., 1., 1., 1.]), ('te', 90, 150): array([1., 1., 1., ..., 1., 1., 1.]), ('te', 90, 225): array([1., 1., 1., ..., 1., 1., 1.]), ('te', 150, 90): array([1., 1., 1., ..., 1., 1., 1.]), ('te', 150, 150): array([1., 1., 1., ..., 1., 1., 1.]), ('te', 150, 225): array([1., 1., 1., ..., 1., 1., 1.]), ('te', 225, 90): array([1., 1., 1., ..., 1., 1., 1.]), ('te', 225, 150): array([1., 1., 1., ..., 1., 1., 1.]), ('te', 225, 225): array([1., 1., 1., ..., 1., 1., 1.]), ('tt', 90, 90): array([1., 1., 1., ..., 1., 1., 1.]), ('tt', 90, 150): array([1., 1., 1., ..., 1., 1., 1.]), ('tt', 90, 225): array([1., 1., 1., ..., 1., 1., 1.]), ('tt', 150, 90): array([1., 1., 1., ..., 1., 1., 1.]), ('tt', 150, 150): array([1., 1., 1., ..., 1., 1., 1.]), ('tt', 150, 225): array([1., 1., 1., ..., 1., 1., 1.]), ('tt', 225, 90): array([1., 1., 1., ..., 1., 1., 1.]), ('tt', 225, 150): array([1., 1., 1., ..., 1., 1., 1.]), ('tt', 225, 225): array([1., 1., 1., ..., 1., 1., 1.])}\n"
     ]
    }
   ],
   "source": [
    "print(dcl)"
   ]
  },
  {
   "cell_type": "code",
   "execution_count": 2,
   "metadata": {},
   "outputs": [],
   "source": [
    "l=np.arange(1000)\n",
    "ff=syl.ReadTemplateFromFile(rootname='test_template')"
   ]
  },
  {
   "cell_type": "code",
   "execution_count": 3,
   "metadata": {},
   "outputs": [],
   "source": [
    "cl3=ff(ell=l)"
   ]
  },
  {
   "cell_type": "code",
   "execution_count": 4,
   "metadata": {},
   "outputs": [
    {
     "data": {
      "text/plain": [
       "dict_keys([('ee', 90, 90), ('ee', 90, 150), ('ee', 90, 225), ('ee', 150, 90), ('ee', 150, 150), ('ee', 150, 225), ('ee', 225, 90), ('ee', 225, 150), ('ee', 225, 225), ('te', 90, 90), ('te', 90, 150), ('te', 90, 225), ('te', 150, 90), ('te', 150, 150), ('te', 150, 225), ('te', 225, 90), ('te', 225, 150), ('te', 225, 225), ('tt', 90, 90), ('tt', 90, 150), ('tt', 90, 225), ('tt', 150, 90), ('tt', 150, 150), ('tt', 150, 225), ('tt', 225, 90), ('tt', 225, 150), ('tt', 225, 225)])"
      ]
     },
     "execution_count": 4,
     "metadata": {},
     "output_type": "execute_result"
    }
   ],
   "source": [
    "cl3.keys()"
   ]
  },
  {
   "cell_type": "code",
   "execution_count": 6,
   "metadata": {},
   "outputs": [
    {
     "data": {
      "text/plain": [
       "(1000,)"
      ]
     },
     "execution_count": 6,
     "metadata": {},
     "output_type": "execute_result"
    }
   ],
   "source": [
    "np.shape(cl3['ee', 90, 90])"
   ]
  },
  {
   "cell_type": "code",
   "execution_count": null,
   "metadata": {},
   "outputs": [],
   "source": []
  }
 ],
 "metadata": {
  "kernelspec": {
   "display_name": "newsysV0.1",
   "language": "python",
   "name": "newsysv0.1"
  },
  "language_info": {
   "codemirror_mode": {
    "name": "ipython",
    "version": 3
   },
   "file_extension": ".py",
   "mimetype": "text/x-python",
   "name": "python",
   "nbconvert_exporter": "python",
   "pygments_lexer": "ipython3",
   "version": "3.7.3"
  }
 },
 "nbformat": 4,
 "nbformat_minor": 4
}
